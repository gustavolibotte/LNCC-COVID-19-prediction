{
 "cells": [
  {
   "cell_type": "code",
   "execution_count": 1,
   "metadata": {},
   "outputs": [],
   "source": [
    "import sympy as sp"
   ]
  },
  {
   "cell_type": "code",
   "execution_count": 3,
   "metadata": {},
   "outputs": [],
   "source": [
    "x, a, b, c = sp.symbols(\"x a b c\")"
   ]
  },
  {
   "cell_type": "code",
   "execution_count": 4,
   "metadata": {},
   "outputs": [],
   "source": [
    "f = a*sp.exp(-x/b)+c"
   ]
  },
  {
   "cell_type": "code",
   "execution_count": 8,
   "metadata": {},
   "outputs": [],
   "source": [
    "N = sp.integrate(f, (x, 0, 1))"
   ]
  },
  {
   "cell_type": "code",
   "execution_count": 9,
   "metadata": {},
   "outputs": [],
   "source": [
    "f = f/N"
   ]
  },
  {
   "cell_type": "code",
   "execution_count": 10,
   "metadata": {},
   "outputs": [
    {
     "data": {
      "text/latex": [
       "$\\displaystyle \\frac{a e^{- \\frac{x}{b}} + c}{a b - a b e^{- \\frac{1}{b}} + c}$"
      ],
      "text/plain": [
       "(a*exp(-x/b) + c)/(a*b - a*b*exp(-1/b) + c)"
      ]
     },
     "execution_count": 10,
     "metadata": {},
     "output_type": "execute_result"
    }
   ],
   "source": [
    "f"
   ]
  },
  {
   "cell_type": "code",
   "execution_count": 18,
   "metadata": {},
   "outputs": [
    {
     "data": {
      "text/latex": [
       "$\\displaystyle \\begin{cases} \\frac{- a b \\left(- b e^{\\frac{1}{b}} + b + 1\\right) + \\frac{c e^{\\frac{1}{b}}}{2}}{a b e^{\\frac{1}{b}} - a b + c e^{\\frac{1}{b}}} & \\text{for}\\: a b e^{\\frac{1}{b}} - a b + c e^{\\frac{1}{b}} \\neq 0 \\\\\\frac{\\left(\\frac{a}{2} + \\frac{c}{2}\\right) e^{\\frac{1}{b}}}{a b e^{\\frac{1}{b}} - a b + c e^{\\frac{1}{b}}} & \\text{otherwise} \\end{cases}$"
      ],
      "text/plain": [
       "Piecewise(((-a*b*(-b*exp(1/b) + b + 1) + c*exp(1/b)/2)/(a*b*exp(1/b) - a*b + c*exp(1/b)), Ne(a*b*exp(1/b) - a*b + c*exp(1/b), 0)), ((a/2 + c/2)*exp(1/b)/(a*b*exp(1/b) - a*b + c*exp(1/b)), True))"
      ]
     },
     "execution_count": 18,
     "metadata": {},
     "output_type": "execute_result"
    }
   ],
   "source": [
    "av = sp.simplify(sp.integrate(x*f, (x, 0, 1)))\n",
    "av"
   ]
  },
  {
   "cell_type": "code",
   "execution_count": 19,
   "metadata": {},
   "outputs": [
    {
     "data": {
      "text/latex": [
       "$\\displaystyle \\begin{cases} \\frac{\\sqrt{2} \\sqrt{\\frac{- 2 a b \\left(- b e^{\\frac{1}{b}} + b + 1\\right) + c e^{\\frac{1}{b}}}{a b e^{\\frac{1}{b}} - a b + c e^{\\frac{1}{b}}}}}{2} & \\text{for}\\: a b e^{\\frac{1}{b}} - a b + c e^{\\frac{1}{b}} \\neq 0 \\\\\\frac{\\sqrt{2} \\sqrt{\\frac{\\left(a + c\\right) e^{\\frac{1}{b}}}{a b e^{\\frac{1}{b}} - a b + c e^{\\frac{1}{b}}}}}{2} & \\text{otherwise} \\end{cases}$"
      ],
      "text/plain": [
       "Piecewise((sqrt(2)*sqrt((-2*a*b*(-b*exp(1/b) + b + 1) + c*exp(1/b))/(a*b*exp(1/b) - a*b + c*exp(1/b)))/2, Ne(a*b*exp(1/b) - a*b + c*exp(1/b), 0)), (sqrt(2)*sqrt((a + c)*exp(1/b)/(a*b*exp(1/b) - a*b + c*exp(1/b)))/2, True))"
      ]
     },
     "execution_count": 19,
     "metadata": {},
     "output_type": "execute_result"
    }
   ],
   "source": [
    "std = sp.simplify(sp.sqrt(sp.integrate(x*f, (x, 0, 1))))\n",
    "std"
   ]
  },
  {
   "cell_type": "code",
   "execution_count": null,
   "metadata": {},
   "outputs": [],
   "source": []
  }
 ],
 "metadata": {
  "kernelspec": {
   "display_name": "Python 3",
   "language": "python",
   "name": "python3"
  },
  "language_info": {
   "codemirror_mode": {
    "name": "ipython",
    "version": 3
   },
   "file_extension": ".py",
   "mimetype": "text/x-python",
   "name": "python",
   "nbconvert_exporter": "python",
   "pygments_lexer": "ipython3",
   "version": "3.8.5"
  }
 },
 "nbformat": 4,
 "nbformat_minor": 4
}
