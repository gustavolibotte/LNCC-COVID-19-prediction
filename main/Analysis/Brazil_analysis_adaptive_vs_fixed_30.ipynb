{
 "cells": [
  {
   "cell_type": "code",
   "execution_count": 77,
   "metadata": {},
   "outputs": [],
   "source": [
    "import numpy as np\n",
    "import matplotlib.pyplot as plt\n",
    "import seaborn as sb\n",
    "import pandas as pd\n",
    "import epidemic_model_classes_numba as epi_mod\n",
    "from scipy.integrate import odeint\n",
    "import scipy.stats as st\n",
    "from scipy.stats import pearsonr\n",
    "import os\n",
    "from tqdm import tqdm"
   ]
  },
  {
   "cell_type": "code",
   "execution_count": 78,
   "metadata": {},
   "outputs": [],
   "source": [
    "plt.rc('text', usetex=True)\n",
    "plt.rc('font', family='serif')\n",
    "\n",
    "country = \"Brazil\"\n",
    "country_folder = \"Brazil_adaptive_vs_fixed\"\n",
    "country_file_name = \"brazil\"\n",
    "window_size = 30\n",
    "\n",
    "log_adap = []\n",
    "log_fix = []\n",
    "log_fix20 = []\n",
    "log_fix40 = []\n",
    "\n",
    "for folder in os.listdir(\"../../logs\"):\n",
    "    if \"adaptive_Brazil_1000_samples_SEIRD2_3_posts\" in folder and f\"{window_size}_day\" in folder and \"True\" in folder:\n",
    "        log_adap.append(\"../../logs/\"+folder+\"/\")\n",
    "    elif \"fixed_Brazil_1000_samples_SEIRD2_3_posts\" in folder and f\"{window_size}_day\" in folder and \"True\" in folder:\n",
    "        log_fix.append(\"../../logs/\"+folder+\"/\")\n",
    "    elif \"fixed_Brazil_1000_samples_SEIRD2_3_posts\" in folder and f\"20_day\" in folder and \"True\" in folder:\n",
    "        log_fix20.append(\"../../logs/\"+folder+\"/\")\n",
    "    elif \"fixed_Brazil_1000_samples_SEIRD2_3_posts\" in folder and f\"40_day\" in folder and \"True\" in folder:\n",
    "        log_fix40.append(\"../../logs/\"+folder+\"/\")"
   ]
  },
  {
   "cell_type": "code",
   "execution_count": 29,
   "metadata": {},
   "outputs": [
    {
     "data": {
      "text/plain": [
       "['../logs/sdumont/log2022-03-09_12-41-19_fixed_Brazil_1000_samples_SEIRD2_3_posts_30_day-window_past_True/',\n",
       " '../logs/sdumont/log2022-03-08_16-25-23_fixed_Brazil_1000_samples_SEIRD2_3_posts_30_day-window_past_True/',\n",
       " '../logs/sdumont/log2022-03-09_13-05-59_fixed_Brazil_1000_samples_SEIRD2_3_posts_30_day-window_past_True/',\n",
       " '../logs/sdumont/log2022-03-08_16-33-33_fixed_Brazil_1000_samples_SEIRD2_3_posts_30_day-window_past_True/',\n",
       " '../logs/sdumont/log2022-03-08_16-17-00_fixed_Brazil_1000_samples_SEIRD2_3_posts_30_day-window_past_True/',\n",
       " '../logs/sdumont/log2022-03-08_15-59-04_fixed_Brazil_1000_samples_SEIRD2_3_posts_30_day-window_past_True/',\n",
       " '../logs/sdumont/log2022-03-09_12-32-41_fixed_Brazil_1000_samples_SEIRD2_3_posts_30_day-window_past_True/',\n",
       " '../logs/sdumont/log2022-03-08_16-07-57_fixed_Brazil_1000_samples_SEIRD2_3_posts_30_day-window_past_True/',\n",
       " '../logs/sdumont/log2022-03-09_12-57-52_fixed_Brazil_1000_samples_SEIRD2_3_posts_30_day-window_past_True/',\n",
       " '../logs/sdumont/log2022-03-09_12-49-31_fixed_Brazil_1000_samples_SEIRD2_3_posts_30_day-window_past_True/']"
      ]
     },
     "execution_count": 29,
     "metadata": {},
     "output_type": "execute_result"
    }
   ],
   "source": [
    "log_fix"
   ]
  },
  {
   "cell_type": "code",
   "execution_count": 30,
   "metadata": {},
   "outputs": [
    {
     "data": {
      "text/plain": [
       "['../logs/sdumont/log2022-03-08_16-13-07_fixed_Brazil_1000_samples_SEIRD2_3_posts_20_day-window_past_True/',\n",
       " '../logs/sdumont/log2022-03-08_16-59-58_fixed_Brazil_1000_samples_SEIRD2_3_posts_20_day-window_past_True/',\n",
       " '../logs/sdumont/log2022-03-08_16-08-43_fixed_Brazil_1000_samples_SEIRD2_3_posts_20_day-window_past_True/',\n",
       " '../logs/sdumont/log2022-03-08_16-42-44_fixed_Brazil_1000_samples_SEIRD2_3_posts_20_day-window_past_True/',\n",
       " '../logs/sdumont/log2022-03-08_15-59-59_fixed_Brazil_1000_samples_SEIRD2_3_posts_20_day-window_past_True/',\n",
       " '../logs/sdumont/log2022-03-08_16-47-09_fixed_Brazil_1000_samples_SEIRD2_3_posts_20_day-window_past_True/',\n",
       " '../logs/sdumont/log2022-03-08_16-04-21_fixed_Brazil_1000_samples_SEIRD2_3_posts_20_day-window_past_True/',\n",
       " '../logs/sdumont/log2022-03-08_16-51-23_fixed_Brazil_1000_samples_SEIRD2_3_posts_20_day-window_past_True/',\n",
       " '../logs/sdumont/log2022-03-08_16-17-45_fixed_Brazil_1000_samples_SEIRD2_3_posts_20_day-window_past_True/',\n",
       " '../logs/sdumont/log2022-03-08_16-55-32_fixed_Brazil_1000_samples_SEIRD2_3_posts_20_day-window_past_True/']"
      ]
     },
     "execution_count": 30,
     "metadata": {},
     "output_type": "execute_result"
    }
   ],
   "source": [
    "log_fix20"
   ]
  },
  {
   "cell_type": "code",
   "execution_count": 31,
   "metadata": {},
   "outputs": [
    {
     "data": {
      "text/plain": [
       "['../logs/sdumont/log2022-03-08_17-49-19_fixed_Brazil_1000_samples_SEIRD2_3_posts_40_day-window_past_True/',\n",
       " '../logs/sdumont/log2022-03-08_16-35-49_fixed_Brazil_1000_samples_SEIRD2_3_posts_40_day-window_past_True/',\n",
       " '../logs/sdumont/log2022-03-08_16-22-08_fixed_Brazil_1000_samples_SEIRD2_3_posts_40_day-window_past_True/',\n",
       " '../logs/sdumont/log2022-03-08_17-19-11_fixed_Brazil_1000_samples_SEIRD2_3_posts_40_day-window_past_True/',\n",
       " '../logs/sdumont/log2022-03-08_17-04-12_fixed_Brazil_1000_samples_SEIRD2_3_posts_40_day-window_past_True/',\n",
       " '../logs/sdumont/log2022-03-08_17-05-35_fixed_Brazil_1000_samples_SEIRD2_3_posts_40_day-window_past_True/',\n",
       " '../logs/sdumont/log2022-03-08_16-50-24_fixed_Brazil_1000_samples_SEIRD2_3_posts_40_day-window_past_True/',\n",
       " '../logs/sdumont/log2022-03-08_17-33-33_fixed_Brazil_1000_samples_SEIRD2_3_posts_40_day-window_past_True/',\n",
       " '../logs/sdumont/log2022-03-08_18-04-25_fixed_Brazil_1000_samples_SEIRD2_3_posts_40_day-window_past_True/',\n",
       " '../logs/sdumont/log2022-03-08_17-20-29_fixed_Brazil_1000_samples_SEIRD2_3_posts_40_day-window_past_True/']"
      ]
     },
     "execution_count": 31,
     "metadata": {},
     "output_type": "execute_result"
    }
   ],
   "source": [
    "log_fix40"
   ]
  },
  {
   "cell_type": "code",
   "execution_count": 32,
   "metadata": {},
   "outputs": [
    {
     "data": {
      "text/plain": [
       "['../logs/sdumont/log2021-11-14_08-50-12_adaptive_Brazil_1000_samples_SEIRD2_3_posts_30_day-window_past_True/',\n",
       " '../logs/sdumont/log2021-11-14_08-20-25_adaptive_Brazil_1000_samples_SEIRD2_3_posts_30_day-window_past_True/',\n",
       " '../logs/sdumont/log2021-11-14_09-19-06_adaptive_Brazil_1000_samples_SEIRD2_3_posts_30_day-window_past_True/',\n",
       " '../logs/sdumont/log2021-11-15_19-55-35_adaptive_Brazil_1000_samples_SEIRD2_3_posts_30_day-window_past_True/',\n",
       " '../logs/sdumont/log2021-11-14_07-46-07_adaptive_Brazil_1000_samples_SEIRD2_3_posts_30_day-window_past_True/',\n",
       " '../logs/sdumont/log2021-11-15_18-51-14_adaptive_Brazil_1000_samples_SEIRD2_3_posts_30_day-window_past_True/',\n",
       " '../logs/sdumont/log2021-11-15_18-18-23_adaptive_Brazil_1000_samples_SEIRD2_3_posts_30_day-window_past_True/',\n",
       " '../logs/sdumont/log2021-11-15_19-27-26_adaptive_Brazil_1000_samples_SEIRD2_3_posts_30_day-window_past_True/',\n",
       " '../logs/sdumont/log2021-11-14_09-49-22_adaptive_Brazil_1000_samples_SEIRD2_3_posts_30_day-window_past_True/',\n",
       " '../logs/sdumont/log2021-11-15_20-28-31_adaptive_Brazil_1000_samples_SEIRD2_3_posts_30_day-window_past_True/']"
      ]
     },
     "execution_count": 32,
     "metadata": {},
     "output_type": "execute_result"
    }
   ],
   "source": [
    "log_adap"
   ]
  },
  {
   "cell_type": "code",
   "execution_count": 33,
   "metadata": {},
   "outputs": [],
   "source": [
    "if country_folder not in os.listdir(\"figures\"):\n",
    "    os.mkdir(f\"figures/{country_folder}\")\n",
    "if str(window_size) not in os.listdir(f\"figures/{country_folder}\"):\n",
    "    os.mkdir(f\"figures/{country_folder}/{str(window_size)}\")"
   ]
  },
  {
   "cell_type": "code",
   "execution_count": 34,
   "metadata": {},
   "outputs": [
    {
     "name": "stdout",
     "output_type": "stream",
     "text": [
      "3\n",
      "3\n",
      "76\n",
      "[30, 35, 40, 45, 50, 55, 60, 65, 70, 75, 80, 85, 90, 95, 100, 105, 110, 115, 120, 125, 130, 135, 140, 145, 150, 155, 160, 165, 170, 175, 180, 185, 190, 195, 200, 205, 210, 215, 220, 225, 230, 235, 240, 245, 250, 255, 260, 265, 270, 275, 280, 285, 290, 295, 300, 305, 310, 315, 320, 325, 330, 335, 340, 345, 350, 355, 360, 365, 370, 375, 380, 385, 390, 395, 400, 405]\n"
     ]
    }
   ],
   "source": [
    "n_post_fix = len(os.listdir(log_fix[0]))-1\n",
    "n_post_adap = len(os.listdir(log_adap[0]))-1\n",
    "days_folders = os.listdir(log_fix[0]+f\"Posterior1/{country}/SEIRD2\")\n",
    "for i in range(len(days_folders)):\n",
    "    days_folders[i] = int(days_folders[i].split(\"_\")[0])\n",
    "days_folders.sort()\n",
    "n_window = len(days_folders)\n",
    "\n",
    "print(n_post_fix)\n",
    "print(n_post_adap)\n",
    "print(n_window)\n",
    "print(days_folders)"
   ]
  },
  {
   "cell_type": "code",
   "execution_count": 35,
   "metadata": {},
   "outputs": [],
   "source": [
    "seird2 = epi_mod.SEIRD2"
   ]
  },
  {
   "cell_type": "code",
   "execution_count": 36,
   "metadata": {},
   "outputs": [],
   "source": [
    "x_dat_fix = np.empty((len(log_fix), n_window), dtype=object)\n",
    "y_fit_fix = np.empty((len(log_fix), n_window), dtype=object)\n",
    "y_pred_fix = np.zeros((len(log_fix), n_window, 10, 2))\n",
    "\n",
    "x_dat_adap = np.empty((len(log_adap), n_window), dtype=object)\n",
    "y_fit_adap = np.empty((len(log_adap), n_window), dtype=object)\n",
    "y_pred_adap = np.zeros((len(log_adap), n_window, 10, 2))\n",
    "\n",
    "fix_params = np.zeros((len(log_fix), n_window, 8))\n",
    "rmsd_fix_fit = np.zeros((len(log_fix), n_window))\n",
    "rmsd_fix_pred = np.zeros((len(log_fix), n_window))\n",
    "rmsd_fix_list = np.zeros((len(log_fix), n_window, 10, 2))\n",
    "fix_tolerances = np.zeros((len(log_fix), n_post_fix, n_window))\n",
    "\n",
    "adap_params = np.zeros((len(log_adap), n_window, 8))\n",
    "rmsd_adap_fit = np.zeros((len(log_adap), n_window))\n",
    "rmsd_adap_pred = np.zeros((len(log_adap), n_window))\n",
    "rmsd_adap_list = np.zeros((len(log_adap), n_window, 10, 2))\n",
    "adap_tolerances = np.zeros((len(log_adap), n_post_adap, n_window))\n",
    "\n",
    "post_fix_size = np.zeros((len(log_fix), n_window), dtype=np.int64)\n",
    "post_adap_size = np.zeros((len(log_adap), n_window), dtype=np.int64)"
   ]
  },
  {
   "cell_type": "code",
   "execution_count": 37,
   "metadata": {},
   "outputs": [
    {
     "name": "stderr",
     "output_type": "stream",
     "text": [
      "100%|██████████████████████████████████████████| 76/76 [00:00<00:00, 464.89it/s]\n",
      "100%|██████████████████████████████████████████| 76/76 [00:00<00:00, 479.37it/s]\n",
      "100%|██████████████████████████████████████████| 76/76 [00:00<00:00, 515.41it/s]\n",
      "100%|██████████████████████████████████████████| 76/76 [00:00<00:00, 513.92it/s]\n",
      "100%|██████████████████████████████████████████| 76/76 [00:00<00:00, 484.47it/s]\n",
      "100%|██████████████████████████████████████████| 76/76 [00:00<00:00, 467.62it/s]\n",
      "100%|██████████████████████████████████████████| 76/76 [00:00<00:00, 495.00it/s]\n",
      "100%|██████████████████████████████████████████| 76/76 [00:00<00:00, 464.57it/s]\n",
      "100%|██████████████████████████████████████████| 76/76 [00:00<00:00, 487.30it/s]\n",
      "100%|██████████████████████████████████████████| 76/76 [00:00<00:00, 492.74it/s]\n",
      "100%|██████████████████████████████████████████| 76/76 [00:00<00:00, 395.23it/s]\n",
      "100%|██████████████████████████████████████████| 76/76 [00:00<00:00, 448.97it/s]\n",
      "100%|██████████████████████████████████████████| 76/76 [00:00<00:00, 460.46it/s]\n",
      "100%|██████████████████████████████████████████| 76/76 [00:00<00:00, 455.92it/s]\n",
      "100%|██████████████████████████████████████████| 76/76 [00:00<00:00, 478.70it/s]\n",
      "100%|██████████████████████████████████████████| 76/76 [00:00<00:00, 475.49it/s]\n",
      "100%|██████████████████████████████████████████| 76/76 [00:00<00:00, 407.00it/s]\n",
      "100%|██████████████████████████████████████████| 76/76 [00:00<00:00, 459.00it/s]\n",
      "100%|██████████████████████████████████████████| 76/76 [00:00<00:00, 411.52it/s]\n",
      "100%|██████████████████████████████████████████| 76/76 [00:00<00:00, 448.05it/s]\n"
     ]
    }
   ],
   "source": [
    "for log_idx in range(len(log_fix)):\n",
    "    for window in tqdm(range(n_window)):\n",
    "        data = np.loadtxt(log_fix[log_idx]+f\"Posterior1/{country}/SEIRD2/\"+str(days_folders[window])+\"_days/data.txt\")\n",
    "        for i in range(1, data.shape[0]):\n",
    "            for j in range(data.shape[1]):\n",
    "                if data[i,j] < data[i-1,j]:\n",
    "                    data[i,j] = data[i-1,j]\n",
    "        np.savetxt(log_fix[log_idx]+f\"Posterior1/{country}/SEIRD2/\"+str(days_folders[window])+\"_days/data.txt\", data)\n",
    "        \n",
    "        x_dat_fix[log_idx, window] = np.loadtxt(log_fix[log_idx]+f\"Posterior1/{country}/SEIRD2/\"+str(days_folders[window])+\"_days/data.txt\")[:,0]\n",
    "        y_fit_fix[log_idx, window] = np.loadtxt(log_fix[log_idx]+f\"Posterior1/{country}/SEIRD2/\"+str(days_folders[window])+\"_days/data.txt\")[:-10,1:]\n",
    "        y_pred_fix[log_idx, window] = np.loadtxt(log_fix[log_idx]+f\"Posterior1/{country}/SEIRD2/\"+str(days_folders[window])+\"_days/data.txt\")[-10:,1:]\n",
    "        \n",
    "        log = open(log_fix[log_idx]+f\"Posterior3/{country}/SEIRD2/\"+str(days_folders[window])+\"_days/SEIRD_log.out\")\n",
    "        rmsd_fix_list[log_idx, window] = np.loadtxt(log_fix[log_idx]+f\"Posterior3/{country}/SEIRD2/\"+str(days_folders[window])+\"_days/val_error.txt\")\n",
    "        fix_params[log_idx, window] = np.loadtxt(log_fix[log_idx]+f\"Posterior3/{country}/SEIRD2/\"+str(days_folders[window])+\"_days/best_params.txt\")\n",
    "        log_text = log.read().split(\"\\n\")\n",
    "        \n",
    "        for line in log_text:\n",
    "            if \"Weighted RMSD:\" in line:\n",
    "                rmsd_fix_fit[log_idx, window] = float(line.split(\" \")[-1])\n",
    "            if \"RMSD for validation data:\" in line:\n",
    "                rmsd_fix_pred[log_idx, window] = float(line.split(\" \")[-1])\n",
    "            if \"Training window size:\" in line:\n",
    "                post_fix_size[log_idx, window] = int(line.split(\" \")[-1])\n",
    "        \n",
    "        for post in range(n_post_fix):\n",
    "            log = open(log_fix[log_idx]+\"Posterior\"+str(post+1)+f\"/{country}/SEIRD2/\"+str(days_folders[window])+\"_days/SEIRD_log.out\")\n",
    "            \n",
    "            log_text = log.read().split(\"\\n\")\n",
    "            \n",
    "            for line in log_text:\n",
    "                if \"Tolerance:\" in line:\n",
    "                    fix_tolerances[log_idx, post, window] = float(line.split(\" \")[-1])\n",
    "                \n",
    "            log = open(log_fix[log_idx]+\"Posterior\"+str(post+1)+f\"/{country}/SEIRD2/\"+str(days_folders[window])+\"_days/SEIRD_log.out\")\n",
    "\n",
    "            for line in log_text:\n",
    "                if \"Tolerance:\" in line:\n",
    "                    fix_tolerances[log_idx, post, window] = float(line.split(\" \")[-1])\n",
    "                \n",
    "for log_idx in range(len(log_adap)):\n",
    "    for window in tqdm(range(n_window)):\n",
    "        data = np.loadtxt(log_adap[log_idx]+f\"Posterior1/{country}/SEIRD2/\"+str(days_folders[window])+\"_days/data.txt\")\n",
    "        for i in range(1, data.shape[0]):\n",
    "            for j in range(data.shape[1]):\n",
    "                if data[i,j] < data[i-1,j]:\n",
    "                    data[i,j] = data[i-1,j]\n",
    "        np.savetxt(log_adap[log_idx]+f\"Posterior1/{country}/SEIRD2/\"+str(days_folders[window])+\"_days/data.txt\", data)\n",
    "        \n",
    "        x_dat_adap[log_idx, window] = np.loadtxt(log_adap[log_idx]+f\"Posterior1/{country}/SEIRD2/\"+str(days_folders[window])+\"_days/data.txt\")[:,0]\n",
    "        y_fit_adap[log_idx, window] = np.loadtxt(log_adap[log_idx]+f\"Posterior1/{country}/SEIRD2/\"+str(days_folders[window])+\"_days/data.txt\")[:-10,1:]\n",
    "        y_pred_adap[log_idx, window] = np.loadtxt(log_adap[log_idx]+f\"Posterior1/{country}/SEIRD2/\"+str(days_folders[window])+\"_days/data.txt\")[-10:,1:]\n",
    "        \n",
    "        log = open(log_adap[log_idx]+f\"Posterior3/{country}/SEIRD2/\"+str(days_folders[window])+\"_days/SEIRD_log.out\")\n",
    "        rmsd_adap_list[log_idx, window] = np.loadtxt(log_adap[log_idx]+f\"Posterior3/{country}/SEIRD2/\"+str(days_folders[window])+\"_days/val_error.txt\")\n",
    "        adap_params[log_idx, window] = np.loadtxt(log_adap[log_idx]+f\"Posterior3/{country}/SEIRD2/\"+str(days_folders[window])+\"_days/best_params.txt\")\n",
    "        log_text = log.read().split(\"\\n\")\n",
    "        \n",
    "        for line in log_text:\n",
    "            if \"Weighted RMSD:\" in line:\n",
    "                rmsd_adap_fit[log_idx, window] = float(line.split(\" \")[-1])\n",
    "            if \"RMSD for validation data:\" in line:\n",
    "                rmsd_adap_pred[log_idx, window] = float(line.split(\" \")[-1])\n",
    "            if \"Training window size:\" in line:\n",
    "                post_adap_size[log_idx, window] = int(line.split(\" \")[-1])\n",
    "        \n",
    "        for post in range(n_post_adap):\n",
    "            log = open(log_adap[log_idx]+\"Posterior\"+str(post+1)+f\"/{country}/SEIRD2/\"+str(days_folders[window])+\"_days/SEIRD_log.out\")\n",
    "            \n",
    "            log_text = log.read().split(\"\\n\")\n",
    "            \n",
    "            for line in log_text:\n",
    "                if \"Tolerance:\" in line:\n",
    "                    adap_tolerances[log_idx, post, window] = float(line.split(\" \")[-1])\n",
    "                \n",
    "            log = open(log_adap[log_idx]+\"Posterior\"+str(post+1)+f\"/{country}/SEIRD2/\"+str(days_folders[window])+\"_days/SEIRD_log.out\")\n",
    "\n",
    "            for line in log_text:\n",
    "                if \"Tolerance:\" in line:\n",
    "                    adap_tolerances[log_idx, post, window] = float(line.split(\" \")[-1])"
   ]
  },
  {
   "cell_type": "code",
   "execution_count": 38,
   "metadata": {},
   "outputs": [
    {
     "name": "stdout",
     "output_type": "stream",
     "text": [
      "3\n",
      "3\n",
      "78\n",
      "[20, 25, 30, 35, 40, 45, 50, 55, 60, 65, 70, 75, 80, 85, 90, 95, 100, 105, 110, 115, 120, 125, 130, 135, 140, 145, 150, 155, 160, 165, 170, 175, 180, 185, 190, 195, 200, 205, 210, 215, 220, 225, 230, 235, 240, 245, 250, 255, 260, 265, 270, 275, 280, 285, 290, 295, 300, 305, 310, 315, 320, 325, 330, 335, 340, 345, 350, 355, 360, 365, 370, 375, 380, 385, 390, 395, 400, 405]\n"
     ]
    }
   ],
   "source": [
    "n_post_fix = len(os.listdir(log_fix20[0]))-1\n",
    "days_folders = os.listdir(log_fix20[0]+f\"Posterior1/{country}/SEIRD2\")\n",
    "for i in range(len(days_folders)):\n",
    "    days_folders[i] = int(days_folders[i].split(\"_\")[0])\n",
    "days_folders.sort()\n",
    "n_window = len(days_folders)\n",
    "\n",
    "print(n_post_fix)\n",
    "print(n_post_adap)\n",
    "print(n_window)\n",
    "print(days_folders)"
   ]
  },
  {
   "cell_type": "code",
   "execution_count": 39,
   "metadata": {},
   "outputs": [],
   "source": [
    "x_dat_fix20 = np.empty((len(log_fix20), n_window), dtype=object)\n",
    "y_fit_fix20 = np.empty((len(log_fix20), n_window), dtype=object)\n",
    "y_pred_fix20 = np.zeros((len(log_fix20), n_window, 10, 2))\n",
    "\n",
    "fix_params20 = np.zeros((len(log_fix20), n_window, 8))\n",
    "rmsd_fix_fit20 = np.zeros((len(log_fix20), n_window))\n",
    "rmsd_fix_pred20 = np.zeros((len(log_fix20), n_window))\n",
    "rmsd_fix_list20 = np.zeros((len(log_fix20), n_window, 10, 2))\n",
    "fix_tolerances20 = np.zeros((len(log_fix20), n_post_fix, n_window))\n",
    "\n",
    "post_fix_size20 = np.zeros((len(log_fix20), n_window), dtype=np.int64)"
   ]
  },
  {
   "cell_type": "code",
   "execution_count": 40,
   "metadata": {},
   "outputs": [
    {
     "name": "stderr",
     "output_type": "stream",
     "text": [
      "100%|██████████████████████████████████████████| 78/78 [00:00<00:00, 183.12it/s]\n",
      "100%|██████████████████████████████████████████| 78/78 [00:00<00:00, 327.16it/s]\n",
      "100%|██████████████████████████████████████████| 78/78 [00:00<00:00, 310.06it/s]\n",
      "100%|██████████████████████████████████████████| 78/78 [00:00<00:00, 353.22it/s]\n",
      "100%|██████████████████████████████████████████| 78/78 [00:00<00:00, 288.59it/s]\n",
      "100%|██████████████████████████████████████████| 78/78 [00:00<00:00, 264.00it/s]\n",
      "100%|██████████████████████████████████████████| 78/78 [00:00<00:00, 387.88it/s]\n",
      "100%|██████████████████████████████████████████| 78/78 [00:00<00:00, 351.21it/s]\n",
      "100%|██████████████████████████████████████████| 78/78 [00:00<00:00, 263.77it/s]\n",
      "100%|██████████████████████████████████████████| 78/78 [00:00<00:00, 401.64it/s]\n"
     ]
    }
   ],
   "source": [
    "for log_idx in range(len(log_fix20)):\n",
    "    for window in tqdm(range(n_window)):\n",
    "        data = np.loadtxt(log_fix20[log_idx]+f\"Posterior1/{country}/SEIRD2/\"+str(days_folders[window])+\"_days/data.txt\")\n",
    "        for i in range(1, data.shape[0]):\n",
    "            for j in range(data.shape[1]):\n",
    "                if data[i,j] < data[i-1,j]:\n",
    "                    data[i,j] = data[i-1,j]\n",
    "        np.savetxt(log_fix20[log_idx]+f\"Posterior1/{country}/SEIRD2/\"+str(days_folders[window])+\"_days/data.txt\", data)\n",
    "        \n",
    "        x_dat_fix20[log_idx, window] = np.loadtxt(log_fix20[log_idx]+f\"Posterior1/{country}/SEIRD2/\"+str(days_folders[window])+\"_days/data.txt\")[:,0]\n",
    "        y_fit_fix20[log_idx, window] = np.loadtxt(log_fix20[log_idx]+f\"Posterior1/{country}/SEIRD2/\"+str(days_folders[window])+\"_days/data.txt\")[:-10,1:]\n",
    "        y_pred_fix20[log_idx, window] = np.loadtxt(log_fix20[log_idx]+f\"Posterior1/{country}/SEIRD2/\"+str(days_folders[window])+\"_days/data.txt\")[-10:,1:]\n",
    "        \n",
    "        log = open(log_fix20[log_idx]+f\"Posterior3/{country}/SEIRD2/\"+str(days_folders[window])+\"_days/SEIRD_log.out\")\n",
    "        rmsd_fix_list20[log_idx, window] = np.loadtxt(log_fix20[log_idx]+f\"Posterior3/{country}/SEIRD2/\"+str(days_folders[window])+\"_days/val_error.txt\")\n",
    "        fix_params20[log_idx, window] = np.loadtxt(log_fix20[log_idx]+f\"Posterior3/{country}/SEIRD2/\"+str(days_folders[window])+\"_days/best_params.txt\")\n",
    "        log_text = log.read().split(\"\\n\")\n",
    "        \n",
    "        for line in log_text:\n",
    "            if \"Weighted RMSD:\" in line:\n",
    "                rmsd_fix_fit20[log_idx, window] = float(line.split(\" \")[-1])\n",
    "            if \"RMSD for validation data:\" in line:\n",
    "                rmsd_fix_pred20[log_idx, window] = float(line.split(\" \")[-1])\n",
    "            if \"Training window size:\" in line:\n",
    "                post_fix_size20[log_idx, window] = int(line.split(\" \")[-1])\n",
    "        \n",
    "        for post in range(n_post_fix):\n",
    "            log = open(log_fix20[log_idx]+\"Posterior\"+str(post+1)+f\"/{country}/SEIRD2/\"+str(days_folders[window])+\"_days/SEIRD_log.out\")\n",
    "            \n",
    "            log_text = log.read().split(\"\\n\")\n",
    "            \n",
    "            for line in log_text:\n",
    "                if \"Tolerance:\" in line:\n",
    "                    fix_tolerances20[log_idx, post, window] = float(line.split(\" \")[-1])\n",
    "                \n",
    "            log = open(log_fix20[log_idx]+\"Posterior\"+str(post+1)+f\"/{country}/SEIRD2/\"+str(days_folders[window])+\"_days/SEIRD_log.out\")\n",
    "\n",
    "            for line in log_text:\n",
    "                if \"Tolerance:\" in line:\n",
    "                    fix_tolerances20[log_idx, post, window] = float(line.split(\" \")[-1])"
   ]
  },
  {
   "cell_type": "code",
   "execution_count": 42,
   "metadata": {},
   "outputs": [
    {
     "name": "stdout",
     "output_type": "stream",
     "text": [
      "3\n",
      "3\n",
      "74\n",
      "[40, 45, 50, 55, 60, 65, 70, 75, 80, 85, 90, 95, 100, 105, 110, 115, 120, 125, 130, 135, 140, 145, 150, 155, 160, 165, 170, 175, 180, 185, 190, 195, 200, 205, 210, 215, 220, 225, 230, 235, 240, 245, 250, 255, 260, 265, 270, 275, 280, 285, 290, 295, 300, 305, 310, 315, 320, 325, 330, 335, 340, 345, 350, 355, 360, 365, 370, 375, 380, 385, 390, 395, 400, 405]\n"
     ]
    }
   ],
   "source": [
    "n_post_fix = len(os.listdir(log_fix40[0]))-1\n",
    "days_folders = os.listdir(log_fix40[0]+f\"Posterior1/{country}/SEIRD2\")\n",
    "for i in range(len(days_folders)):\n",
    "    days_folders[i] = int(days_folders[i].split(\"_\")[0])\n",
    "days_folders.sort()\n",
    "n_window = len(days_folders)\n",
    "\n",
    "print(n_post_fix)\n",
    "print(n_post_adap)\n",
    "print(n_window)\n",
    "print(days_folders)"
   ]
  },
  {
   "cell_type": "code",
   "execution_count": 43,
   "metadata": {},
   "outputs": [],
   "source": [
    "x_dat_fix40 = np.empty((len(log_fix40), n_window), dtype=object)\n",
    "y_fit_fix40 = np.empty((len(log_fix40), n_window), dtype=object)\n",
    "y_pred_fix40 = np.zeros((len(log_fix40), n_window, 10, 2))\n",
    "\n",
    "fix_params40 = np.zeros((len(log_fix40), n_window, 8))\n",
    "rmsd_fix_fit40 = np.zeros((len(log_fix40), n_window))\n",
    "rmsd_fix_pred40 = np.zeros((len(log_fix40), n_window))\n",
    "rmsd_fix_list40 = np.zeros((len(log_fix40), n_window, 10, 2))\n",
    "fix_tolerances40 = np.zeros((len(log_fix40), n_post_fix, n_window))\n",
    "\n",
    "post_fix_size40 = np.zeros((len(log_fix40), n_window), dtype=np.int64)"
   ]
  },
  {
   "cell_type": "code",
   "execution_count": 44,
   "metadata": {},
   "outputs": [
    {
     "name": "stderr",
     "output_type": "stream",
     "text": [
      "100%|███████████████████████████████████████████| 74/74 [00:00<00:00, 76.50it/s]\n",
      "100%|███████████████████████████████████████████| 74/74 [00:02<00:00, 30.79it/s]\n",
      "100%|███████████████████████████████████████████| 74/74 [00:02<00:00, 26.48it/s]\n",
      "100%|██████████████████████████████████████████| 74/74 [00:00<00:00, 135.25it/s]\n",
      "100%|██████████████████████████████████████████| 74/74 [00:00<00:00, 127.70it/s]\n",
      "100%|██████████████████████████████████████████| 74/74 [00:00<00:00, 151.52it/s]\n",
      "100%|███████████████████████████████████████████| 74/74 [00:01<00:00, 63.68it/s]\n",
      "100%|███████████████████████████████████████████| 74/74 [00:01<00:00, 69.94it/s]\n",
      "100%|███████████████████████████████████████████| 74/74 [00:00<00:00, 93.54it/s]\n",
      "100%|██████████████████████████████████████████| 74/74 [00:00<00:00, 144.02it/s]\n"
     ]
    }
   ],
   "source": [
    "for log_idx in range(len(log_fix40)):\n",
    "    for window in tqdm(range(n_window)):\n",
    "        data = np.loadtxt(log_fix40[log_idx]+f\"Posterior1/{country}/SEIRD2/\"+str(days_folders[window])+\"_days/data.txt\")\n",
    "        for i in range(1, data.shape[0]):\n",
    "            for j in range(data.shape[1]):\n",
    "                if data[i,j] < data[i-1,j]:\n",
    "                    data[i,j] = data[i-1,j]\n",
    "        np.savetxt(log_fix40[log_idx]+f\"Posterior1/{country}/SEIRD2/\"+str(days_folders[window])+\"_days/data.txt\", data)\n",
    "        \n",
    "        x_dat_fix40[log_idx, window] = np.loadtxt(log_fix40[log_idx]+f\"Posterior1/{country}/SEIRD2/\"+str(days_folders[window])+\"_days/data.txt\")[:,0]\n",
    "        y_fit_fix40[log_idx, window] = np.loadtxt(log_fix40[log_idx]+f\"Posterior1/{country}/SEIRD2/\"+str(days_folders[window])+\"_days/data.txt\")[:-10,1:]\n",
    "        y_pred_fix40[log_idx, window] = np.loadtxt(log_fix40[log_idx]+f\"Posterior1/{country}/SEIRD2/\"+str(days_folders[window])+\"_days/data.txt\")[-10:,1:]\n",
    "        \n",
    "        log = open(log_fix40[log_idx]+f\"Posterior3/{country}/SEIRD2/\"+str(days_folders[window])+\"_days/SEIRD_log.out\")\n",
    "        rmsd_fix_list40[log_idx, window] = np.loadtxt(log_fix40[log_idx]+f\"Posterior3/{country}/SEIRD2/\"+str(days_folders[window])+\"_days/val_error.txt\")\n",
    "        fix_params40[log_idx, window] = np.loadtxt(log_fix40[log_idx]+f\"Posterior3/{country}/SEIRD2/\"+str(days_folders[window])+\"_days/best_params.txt\")\n",
    "        log_text = log.read().split(\"\\n\")\n",
    "        \n",
    "        for line in log_text:\n",
    "            if \"Weighted RMSD:\" in line:\n",
    "                rmsd_fix_fit40[log_idx, window] = float(line.split(\" \")[-1])\n",
    "            if \"RMSD for validation data:\" in line:\n",
    "                rmsd_fix_pred40[log_idx, window] = float(line.split(\" \")[-1])\n",
    "            if \"Training window size:\" in line:\n",
    "                post_fix_size40[log_idx, window] = int(line.split(\" \")[-1])\n",
    "        \n",
    "        for post in range(n_post_fix):\n",
    "            log = open(log_fix40[log_idx]+\"Posterior\"+str(post+1)+f\"/{country}/SEIRD2/\"+str(days_folders[window])+\"_days/SEIRD_log.out\")\n",
    "            \n",
    "            log_text = log.read().split(\"\\n\")\n",
    "            \n",
    "            for line in log_text:\n",
    "                if \"Tolerance:\" in line:\n",
    "                    fix_tolerances40[log_idx, post, window] = float(line.split(\" \")[-1])\n",
    "                \n",
    "            log = open(log_fix40[log_idx]+\"Posterior\"+str(post+1)+f\"/{country}/SEIRD2/\"+str(days_folders[window])+\"_days/SEIRD_log.out\")\n",
    "\n",
    "            for line in log_text:\n",
    "                if \"Tolerance:\" in line:\n",
    "                    fix_tolerances40[log_idx, post, window] = float(line.split(\" \")[-1])"
   ]
  },
  {
   "cell_type": "code",
   "execution_count": 174,
   "metadata": {},
   "outputs": [
    {
     "data": {
      "image/png": "[encoded data removed]",
      "text/plain": [
       "<Figure size 1440x720 with 1 Axes>"
      ]
     },
     "metadata": {
      "needs_background": "light"
     },
     "output_type": "display_data"
    }
   ],
   "source": [
    "plt.figure(figsize=(20,10))\n",
    "\n",
    "bp_fix20 = plt.boxplot(rmsd_fix_fit20.mean(axis=0)[:25], meanline = True, patch_artist = True,\n",
    "            meanprops=dict(color='black', lw=1.5), medianprops=dict(color='red', lw=1.5), whiskerprops=dict(lw=2), capprops=dict(lw=2),\n",
    "            showmeans = True, whis = (0, 100), positions = [0], widths = [0.5],\n",
    "            boxprops=dict(facecolor=sb.color_palette('viridis', 7)[0]), flierprops=dict(marker='.',\n",
    "                                                                  markerfacecolor = 'r', markersize=8))\n",
    "bp_fix30 = plt.boxplot(rmsd_fix_fit.mean(axis=0)[:25], meanline = True, patch_artist = True,\n",
    "            meanprops=dict(color='black', lw=1.5), medianprops=dict(color='red', lw=1.5), whiskerprops=dict(lw=2), capprops=dict(lw=2),\n",
    "            showmeans = True, whis = (0, 100), positions = [0.5], widths = [0.5],\n",
    "            boxprops=dict(facecolor=sb.color_palette('viridis', 7)[2]), flierprops=dict(marker='.',\n",
    "                                                                  markerfacecolor = 'r', markersize=8))\n",
    "bp_fix40 = plt.boxplot(rmsd_fix_fit40.mean(axis=0)[:25], meanline = True, patch_artist = True,\n",
    "            meanprops=dict(color='black', lw=1.5), medianprops=dict(color='red', lw=1.5), whiskerprops=dict(lw=2), capprops=dict(lw=2),\n",
    "            showmeans = True, whis = (0, 100), positions = [1], widths = [0.5],\n",
    "            boxprops=dict(facecolor=sb.color_palette('viridis', 7)[4]), flierprops=dict(marker='.',\n",
    "                                                                  markerfacecolor = 'r', markersize=8))\n",
    "bp_adap = plt.boxplot(rmsd_adap_fit.mean(axis=0)[:25], meanline = True, patch_artist = True,\n",
    "            meanprops=dict(color='black', lw=1.5), medianprops=dict(color='red', lw=1.5), whiskerprops=dict(lw=2), capprops=dict(lw=2),\n",
    "            showmeans = True, whis = (0, 100), positions = [1.5], widths = [0.5],\n",
    "            boxprops=dict(facecolor=sb.color_palette('viridis', 7)[5]), flierprops=dict(marker='.',\n",
    "                                                                  markerfacecolor = 'r', markersize=8))\n",
    "\n",
    "plt.boxplot(rmsd_fix_fit20.mean(axis=0)[25:50], meanline = True, patch_artist = True,\n",
    "            meanprops=dict(color='black', lw=1.5), medianprops=dict(color='red', lw=1.5), whiskerprops=dict(lw=2), capprops=dict(lw=2),\n",
    "            showmeans = True, whis = (0, 100), positions = [2.5], widths = [0.5],\n",
    "            boxprops=dict(facecolor=sb.color_palette('viridis', 7)[0]), flierprops=dict(marker='.',\n",
    "                                                                  markerfacecolor = 'r', markersize=8))\n",
    "plt.boxplot(rmsd_fix_fit.mean(axis=0)[25:50], meanline = True, patch_artist = True,\n",
    "            meanprops=dict(color='black', lw=1.5), medianprops=dict(color='red', lw=1.5), whiskerprops=dict(lw=2), capprops=dict(lw=2),\n",
    "            showmeans = True, whis = (0, 100), positions = [3], widths = [0.5],\n",
    "            boxprops=dict(facecolor=sb.color_palette('viridis', 7)[2]), flierprops=dict(marker='.',\n",
    "                                                                  markerfacecolor = 'r', markersize=8))\n",
    "plt.boxplot(rmsd_fix_fit40.mean(axis=0)[25:50], meanline = True, patch_artist = True,\n",
    "            meanprops=dict(color='black', lw=1.5), medianprops=dict(color='red', lw=1.5), whiskerprops=dict(lw=2), capprops=dict(lw=2),\n",
    "            showmeans = True, whis = (0, 100), positions = [3.5], widths = [0.5],\n",
    "            boxprops=dict(facecolor=sb.color_palette('viridis', 7)[4]), flierprops=dict(marker='.',\n",
    "                                                                  markerfacecolor = 'r', markersize=8))\n",
    "plt.boxplot(rmsd_adap_fit.mean(axis=0)[25:50], meanline = True, patch_artist = True,\n",
    "            meanprops=dict(color='black', lw=1.5), medianprops=dict(color='red', lw=1.5), whiskerprops=dict(lw=2), capprops=dict(lw=2),\n",
    "            showmeans = True, whis = (0, 100), positions = [4], widths = [0.5],\n",
    "            boxprops=dict(facecolor=sb.color_palette('viridis', 7)[5]), flierprops=dict(marker='.',\n",
    "                                                                  markerfacecolor = 'r', markersize=8))\n",
    "\n",
    "plt.boxplot(rmsd_fix_fit20.mean(axis=0)[50:], meanline = True, patch_artist = True,\n",
    "            meanprops=dict(color='black', lw=1.5), medianprops=dict(color='red', lw=1.5), whiskerprops=dict(lw=2), capprops=dict(lw=2),\n",
    "            showmeans = True, whis = (0, 100), positions = [5], widths = [0.5],\n",
    "            boxprops=dict(facecolor=sb.color_palette('viridis', 7)[0]), flierprops=dict(marker='.',\n",
    "                                                                  markerfacecolor = 'r', markersize=8))\n",
    "plt.boxplot(rmsd_fix_fit.mean(axis=0)[50:], meanline = True, patch_artist = True,\n",
    "            meanprops=dict(color='black', lw=1.5), medianprops=dict(color='red', lw=1.5), whiskerprops=dict(lw=2), capprops=dict(lw=2),\n",
    "            showmeans = True, whis = (0, 100), positions = [5.5], widths = [0.5],\n",
    "            boxprops=dict(facecolor=sb.color_palette('viridis', 7)[2]), flierprops=dict(marker='.',\n",
    "                                                                  markerfacecolor = 'r', markersize=8))\n",
    "plt.boxplot(rmsd_fix_fit40.mean(axis=0)[50:], meanline = True, patch_artist = True,\n",
    "            meanprops=dict(color='black', lw=1.5), medianprops=dict(color='red', lw=1.5), whiskerprops=dict(lw=2), capprops=dict(lw=2),\n",
    "            showmeans = True, whis = (0, 100), positions = [6], widths = [0.5],\n",
    "            boxprops=dict(facecolor=sb.color_palette('viridis', 7)[4]), flierprops=dict(marker='.',\n",
    "                                                                  markerfacecolor = 'r', markersize=8))\n",
    "plt.boxplot(rmsd_adap_fit.mean(axis=0)[50:], meanline = True, patch_artist = True,\n",
    "            meanprops=dict(color='black', lw=1.5), medianprops=dict(color='red', lw=1.5), whiskerprops=dict(lw=2), capprops=dict(lw=2),\n",
    "            showmeans = True, whis = (0, 100), positions = [6.5], widths = [0.5],\n",
    "            boxprops=dict(facecolor=sb.color_palette('viridis', 7)[5]), flierprops=dict(marker='.',\n",
    "                                                                  markerfacecolor = 'r', markersize=8))\n",
    "\n",
    "plt.xlim(-0.5, 7)\n",
    "plt.ylim(7e-3, 2e-1)\n",
    "plt.yscale(\"log\")\n",
    "# plt.ticklabel_format(axis=\"y\", scilimits=(0,1))\n",
    "plt.xticks([0.75, 3.25, 5.75], [\"Windows 1 to 25\", \"Windows 26 to 50\", \"Windows 51 to 76\"], fontsize=24)\n",
    "plt.yticks(fontsize=24)\n",
    "plt.gca().yaxis.set_tick_params(width=1.4, length=10, which=\"major\")\n",
    "plt.gca().yaxis.set_tick_params(width=1.3, length=6, which=\"minor\")\n",
    "plt.ylabel(\"Fit Window NRMSD\", fontsize=28)\n",
    "\n",
    "mean = plt.hlines(1e7,20,25, linestyles = 'dashed', color = 'black', lw = 1.5, label = 'Mean')\n",
    "median = plt.hlines(1e7,20,25, color = 'red', lw = 1.5, label = 'Median')\n",
    "leg2 = plt.legend([mean, median], [\"Mean\", \"Median\"], loc=\"upper center\", fontsize=24)\n",
    "plt.legend([bp_fix20[\"boxes\"][0], bp_fix30[\"boxes\"][0], bp_fix40[\"boxes\"][0], bp_adap[\"boxes\"][0]], \n",
    "           [\"Fixed window size = 20\", \"Fixed window size = 30\", \"Fixed window size = 40\", \"Adaptive window size\"], fontsize=24)\n",
    "plt.gca().add_artist(leg2)\n",
    "\n",
    "plt.savefig(f\"figures/{country_folder}/{window_size}/{country_file_name}_{window_size}_fit_window_nrmsd_boxplot.png\", dpi=300, bbox_inches=\"tight\")"
   ]
  },
  {
   "cell_type": "code",
   "execution_count": 177,
   "metadata": {},
   "outputs": [
    {
     "data": {
      "image/png": "[encoded data removed]",
      "text/plain": [
       "<Figure size 1440x720 with 1 Axes>"
      ]
     },
     "metadata": {
      "needs_background": "light"
     },
     "output_type": "display_data"
    }
   ],
   "source": [
    "plt.figure(figsize=(20,10))\n",
    "\n",
    "bp_fix20 = plt.boxplot(rmsd_fix_pred20.mean(axis=0)[:25], meanline = True, patch_artist = True,\n",
    "            meanprops=dict(color='black', lw=1.5), medianprops=dict(color='red', lw=1.5), whiskerprops=dict(lw=2), capprops=dict(lw=2),\n",
    "            showmeans = True, whis = (0, 100), positions = [0], widths = [0.5],\n",
    "            boxprops=dict(facecolor=sb.color_palette('viridis', 7)[0]), flierprops=dict(marker='.',\n",
    "                                                                  markerfacecolor = 'r', markersize=8))\n",
    "bp_fix30 = plt.boxplot(rmsd_fix_pred.mean(axis=0)[:25], meanline = True, patch_artist = True,\n",
    "            meanprops=dict(color='black', lw=1.5), medianprops=dict(color='red', lw=1.5), whiskerprops=dict(lw=2), capprops=dict(lw=2),\n",
    "            showmeans = True, whis = (0, 100), positions = [0.5], widths = [0.5],\n",
    "            boxprops=dict(facecolor=sb.color_palette('viridis', 7)[2]), flierprops=dict(marker='.',\n",
    "                                                                  markerfacecolor = 'r', markersize=8))\n",
    "bp_fix40 = plt.boxplot(rmsd_fix_pred40.mean(axis=0)[:25], meanline = True, patch_artist = True,\n",
    "            meanprops=dict(color='black', lw=1.5), medianprops=dict(color='red', lw=1.5), whiskerprops=dict(lw=2), capprops=dict(lw=2),\n",
    "            showmeans = True, whis = (0, 100), positions = [1], widths = [0.5],\n",
    "            boxprops=dict(facecolor=sb.color_palette('viridis', 7)[4]), flierprops=dict(marker='.',\n",
    "                                                                  markerfacecolor = 'r', markersize=8))\n",
    "bp_adap = plt.boxplot(rmsd_adap_pred.mean(axis=0)[:25], meanline = True, patch_artist = True,\n",
    "            meanprops=dict(color='black', lw=1.5), medianprops=dict(color='red', lw=1.5), whiskerprops=dict(lw=2), capprops=dict(lw=2),\n",
    "            showmeans = True, whis = (0, 100), positions = [1.5], widths = [0.5],\n",
    "            boxprops=dict(facecolor=sb.color_palette('viridis', 7)[5]), flierprops=dict(marker='.',\n",
    "                                                                  markerfacecolor = 'r', markersize=8))\n",
    "\n",
    "plt.boxplot(rmsd_fix_pred20.mean(axis=0)[25:50], meanline = True, patch_artist = True,\n",
    "            meanprops=dict(color='black', lw=1.5), medianprops=dict(color='red', lw=1.5), whiskerprops=dict(lw=2), capprops=dict(lw=2),\n",
    "            showmeans = True, whis = (0, 100), positions = [2.5], widths = [0.5],\n",
    "            boxprops=dict(facecolor=sb.color_palette('viridis', 7)[0]), flierprops=dict(marker='.',\n",
    "                                                                  markerfacecolor = 'r', markersize=8))\n",
    "plt.boxplot(rmsd_fix_pred.mean(axis=0)[25:50], meanline = True, patch_artist = True,\n",
    "            meanprops=dict(color='black', lw=1.5), medianprops=dict(color='red', lw=1.5), whiskerprops=dict(lw=2), capprops=dict(lw=2),\n",
    "            showmeans = True, whis = (0, 100), positions = [3], widths = [0.5],\n",
    "            boxprops=dict(facecolor=sb.color_palette('viridis', 7)[2]), flierprops=dict(marker='.',\n",
    "                                                                  markerfacecolor = 'r', markersize=8))\n",
    "plt.boxplot(rmsd_fix_pred40.mean(axis=0)[25:50], meanline = True, patch_artist = True,\n",
    "            meanprops=dict(color='black', lw=1.5), medianprops=dict(color='red', lw=1.5), whiskerprops=dict(lw=2), capprops=dict(lw=2),\n",
    "            showmeans = True, whis = (0, 100), positions = [3.5], widths = [0.5],\n",
    "            boxprops=dict(facecolor=sb.color_palette('viridis', 7)[4]), flierprops=dict(marker='.',\n",
    "                                                                  markerfacecolor = 'r', markersize=8))\n",
    "plt.boxplot(rmsd_adap_pred.mean(axis=0)[25:50], meanline = True, patch_artist = True,\n",
    "            meanprops=dict(color='black', lw=1.5), medianprops=dict(color='red', lw=1.5), whiskerprops=dict(lw=2), capprops=dict(lw=2),\n",
    "            showmeans = True, whis = (0, 100), positions = [4], widths = [0.5],\n",
    "            boxprops=dict(facecolor=sb.color_palette('viridis', 7)[5]), flierprops=dict(marker='.',\n",
    "                                                                  markerfacecolor = 'r', markersize=8))\n",
    "\n",
    "plt.boxplot(rmsd_fix_pred20.mean(axis=0)[50:], meanline = True, patch_artist = True,\n",
    "            meanprops=dict(color='black', lw=1.5), medianprops=dict(color='red', lw=1.5), whiskerprops=dict(lw=2), capprops=dict(lw=2),\n",
    "            showmeans = True, whis = (0, 100), positions = [5], widths = [0.5],\n",
    "            boxprops=dict(facecolor=sb.color_palette('viridis', 7)[0]), flierprops=dict(marker='.',\n",
    "                                                                  markerfacecolor = 'r', markersize=8))\n",
    "plt.boxplot(rmsd_fix_pred.mean(axis=0)[50:], meanline = True, patch_artist = True,\n",
    "            meanprops=dict(color='black', lw=1.5), medianprops=dict(color='red', lw=1.5), whiskerprops=dict(lw=2), capprops=dict(lw=2),\n",
    "            showmeans = True, whis = (0, 100), positions = [5.5], widths = [0.5],\n",
    "            boxprops=dict(facecolor=sb.color_palette('viridis', 7)[2]), flierprops=dict(marker='.',\n",
    "                                                                  markerfacecolor = 'r', markersize=8))\n",
    "plt.boxplot(rmsd_fix_pred40.mean(axis=0)[50:], meanline = True, patch_artist = True,\n",
    "            meanprops=dict(color='black', lw=1.5), medianprops=dict(color='red', lw=1.5), whiskerprops=dict(lw=2), capprops=dict(lw=2),\n",
    "            showmeans = True, whis = (0, 100), positions = [6], widths = [0.5],\n",
    "            boxprops=dict(facecolor=sb.color_palette('viridis', 7)[4]), flierprops=dict(marker='.',\n",
    "                                                                  markerfacecolor = 'r', markersize=8))\n",
    "plt.boxplot(rmsd_adap_pred.mean(axis=0)[50:], meanline = True, patch_artist = True,\n",
    "            meanprops=dict(color='black', lw=1.5), medianprops=dict(color='red', lw=1.5), whiskerprops=dict(lw=2), capprops=dict(lw=2),\n",
    "            showmeans = True, whis = (0, 100), positions = [6.5], widths = [0.5],\n",
    "            boxprops=dict(facecolor=sb.color_palette('viridis', 7)[5]), flierprops=dict(marker='.',\n",
    "                                                                  markerfacecolor = 'r', markersize=8))\n",
    "\n",
    "plt.xlim(-0.5, 7)\n",
    "plt.ylim(3e-2, 4)\n",
    "plt.yscale(\"log\")\n",
    "plt.xticks([0.75, 3.25, 5.75], [\"Windows 1 to 25\", \"Windows 26 to 50\", \"Windows 51 to 76\"], fontsize=24)\n",
    "plt.yticks(fontsize=24)\n",
    "plt.gca().yaxis.set_tick_params(width=1.4, length=10, which=\"major\")\n",
    "plt.gca().yaxis.set_tick_params(width=1.3, length=6, which=\"minor\")\n",
    "plt.ylabel(\"Prediction Window NRMSD\", fontsize=28)\n",
    "\n",
    "mean = plt.hlines(1e7,20,25, linestyles = 'dashed', color = 'black', lw = 1.5, label = 'Mean')\n",
    "median = plt.hlines(1e7,20,25, color = 'red', lw = 1.5, label = 'Median')\n",
    "leg2 = plt.legend([mean, median], [\"Mean\", \"Median\"], loc=\"upper center\", fontsize=24)\n",
    "plt.legend([bp_fix20[\"boxes\"][0], bp_fix30[\"boxes\"][0], bp_fix40[\"boxes\"][0], bp_adap[\"boxes\"][0]], \n",
    "           [\"Fixed window size = 20\", \"Fixed window size = 30\", \"Fixed window size = 40\", \"Adaptive window size\"], fontsize=24)\n",
    "plt.gca().add_artist(leg2)\n",
    "\n",
    "plt.savefig(f\"figures/{country_folder}/{window_size}/{country_file_name}_{window_size}_pred_window_nrmsd_boxplot.png\", dpi=300, bbox_inches=\"tight\")"
   ]
  }
 ],
 "metadata": {
  "kernelspec": {
   "display_name": "Python 3 (ipykernel)",
   "language": "python",
   "name": "python3"
  },
  "language_info": {
   "codemirror_mode": {
    "name": "ipython",
    "version": 3
   },
   "file_extension": ".py",
   "mimetype": "text/x-python",
   "name": "python",
   "nbconvert_exporter": "python",
   "pygments_lexer": "ipython3",
   "version": "3.8.10"
  },
  "toc-autonumbering": false,
  "toc-showcode": false,
  "toc-showtags": false
 },
 "nbformat": 4,
 "nbformat_minor": 4
}
