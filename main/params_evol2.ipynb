{
 "cells": [
  {
   "cell_type": "code",
   "execution_count": 1,
   "metadata": {},
   "outputs": [],
   "source": [
    "import numpy as np\n",
    "import matplotlib.pyplot as plt\n",
    "import epidemic_model_classes as epi_mod\n",
    "from data_loading import LoadData \n",
    "from proj_consts import ProjectConsts\n",
    "import pandas as pd\n",
    "from PIL import Image\n",
    "import time\n",
    "import os\n",
    "\n",
    "log_path = \"../logs/log2021-02-02_14-22-35/\"\n",
    "\n",
    "data_path = open(\"data_path.txt\", \"r\").read()\n",
    "df_brazil_state_cases = pd.read_csv(data_path)\n",
    "\n",
    "# pop_state_dat = open(f\"{ProjectConsts.DATA_PATH}/pop_states.csv\", \"r\").read().split(\"\\n\")\n",
    "# pop_state = {}\n",
    "# for i in range(len(pop_state_dat)-1):\n",
    "#     pop_state_dat[i] = pop_state_dat[i].split(\", \")\n",
    "#     pop_state[pop_state_dat[i][0]] = int(pop_state_dat[i][1])"
   ]
  },
  {
   "cell_type": "code",
   "execution_count": 2,
   "metadata": {},
   "outputs": [
    {
     "name": "stdout",
     "output_type": "stream",
     "text": [
      "['DF']\n",
      "['SEIRD3']\n"
     ]
    }
   ],
   "source": [
    "locations = open(r\"locationsIN.txt\", \"r\").read().split(\"\\n\")[:-1]\n",
    "# models = open(r\"modelsIN.txt\", \"r\").read().split(\"\\n\")[:1]\n",
    "models = [\"SEIRD3\"]#, \"SEIHRD\", \"SEIARD\"]\n",
    "print(locations)\n",
    "print(models)"
   ]
  },
  {
   "cell_type": "code",
   "execution_count": 3,
   "metadata": {},
   "outputs": [],
   "source": [
    "data = LoadData.getBrazilStateDataFrame(df_brazil_state_cases, locations[0])"
   ]
  },
  {
   "cell_type": "code",
   "execution_count": 4,
   "metadata": {},
   "outputs": [
    {
     "name": "stdout",
     "output_type": "stream",
     "text": [
      "3\n"
     ]
    }
   ],
   "source": [
    "n_post = 0\n",
    "for file in os.listdir(log_path):\n",
    "    \n",
    "    if (\"Posterior\" in file):\n",
    "        n_post += 1\n",
    "        \n",
    "print(n_post)"
   ]
  },
  {
   "cell_type": "code",
   "execution_count": 5,
   "metadata": {},
   "outputs": [],
   "source": [
    "location = locations[0]\n",
    "\n",
    "days_sets = sorted(os.listdir(log_path+\"Posterior1/%s/%s/\"%(location, models[0])), key=lambda x: int(x.split(\"_\")[0]))[:-1]\n",
    "n_days = len(days_sets)\n",
    "\n",
    "days = []\n",
    "\n",
    "for days_set in days_sets:\n",
    "    \n",
    "    days.append(int(days_set.split(\"_\")[0]))\n",
    "\n",
    "days = np.array(days)"
   ]
  },
  {
   "cell_type": "code",
   "execution_count": 7,
   "metadata": {
    "scrolled": false
   },
   "outputs": [
    {
     "ename": "NameError",
     "evalue": "name 'params' is not defined",
     "output_type": "error",
     "traceback": [
      "\u001b[0;31m---------------------------------------------------------------------------\u001b[0m",
      "\u001b[0;31mNameError\u001b[0m                                 Traceback (most recent call last)",
      "\u001b[0;32m<ipython-input-7-9d89bb06132b>\u001b[0m in \u001b[0;36m<module>\u001b[0;34m\u001b[0m\n\u001b[1;32m     30\u001b[0m             \u001b[0mrmsd_start_line\u001b[0m \u001b[0;34m=\u001b[0m \u001b[0mline\u001b[0m\u001b[0;34m\u001b[0m\u001b[0;34m\u001b[0m\u001b[0m\n\u001b[1;32m     31\u001b[0m \u001b[0;34m\u001b[0m\u001b[0m\n\u001b[0;32m---> 32\u001b[0;31m     \u001b[0mparams\u001b[0m\u001b[0;34m.\u001b[0m\u001b[0mappend\u001b[0m\u001b[0;34m(\u001b[0m\u001b[0mnp\u001b[0m\u001b[0;34m.\u001b[0m\u001b[0mzeros\u001b[0m\u001b[0;34m(\u001b[0m\u001b[0;34m(\u001b[0m\u001b[0mn_post\u001b[0m\u001b[0;34m,\u001b[0m \u001b[0mn_days\u001b[0m\u001b[0;34m,\u001b[0m \u001b[0mmodel\u001b[0m\u001b[0;34m.\u001b[0m\u001b[0mnparams\u001b[0m\u001b[0;34m)\u001b[0m\u001b[0;34m)\u001b[0m\u001b[0;34m)\u001b[0m\u001b[0;34m\u001b[0m\u001b[0;34m\u001b[0m\u001b[0m\n\u001b[0m\u001b[1;32m     33\u001b[0m \u001b[0;34m\u001b[0m\u001b[0m\n\u001b[1;32m     34\u001b[0m \u001b[0;32mfor\u001b[0m \u001b[0mp\u001b[0m \u001b[0;32min\u001b[0m \u001b[0mrange\u001b[0m\u001b[0;34m(\u001b[0m\u001b[0mlen\u001b[0m\u001b[0;34m(\u001b[0m\u001b[0mparams\u001b[0m\u001b[0;34m)\u001b[0m\u001b[0;34m)\u001b[0m\u001b[0;34m:\u001b[0m\u001b[0;34m\u001b[0m\u001b[0;34m\u001b[0m\u001b[0m\n",
      "\u001b[0;31mNameError\u001b[0m: name 'params' is not defined"
     ]
    }
   ],
   "source": [
    "plt.rcParams.update({'font.size': 22})\n",
    "\n",
    "def best_rows_cols(n):\n",
    "    \n",
    "    rows = 1\n",
    "    cols = 1\n",
    "    \n",
    "    while (rows*cols < n):\n",
    "        \n",
    "        if (rows == cols):\n",
    "            \n",
    "            cols += 1\n",
    "            \n",
    "        else:\n",
    "            \n",
    "            rows += 1\n",
    "            \n",
    "    return np.array([rows, cols])\n",
    "\n",
    "for model_idx in range(len(models)):\n",
    "    \n",
    "    model = getattr(epi_mod, models[model_idx])\n",
    "    \n",
    "    log_file = open(log_path+\"Posterior1/DF/%s\"%models[model_idx]+\"/\"+days_sets[0]+\"/%s_log.out\"%model.name).read().split(\"\\n\")[:-1]\n",
    "\n",
    "    for line in range(len(log_file)):\n",
    "\n",
    "        if (\"RMSD:\" in log_file[line]):\n",
    "\n",
    "            rmsd_start_line = line\n",
    "    \n",
    "    params.append(np.zeros((n_post, n_days, model.nparams)))\n",
    "\n",
    "for p in range(len(params)):\n",
    "    \n",
    "    model = getattr(epi_mod, models[p])\n",
    "    \n",
    "    plt.figure(figsize=(10*best_rows_cols(params[p].shape[-1])[::-1]))\n",
    "    plt.subplots_adjust(wspace=0.3, hspace=0.2)\n",
    "    \n",
    "    for i in range(params[p].shape[-1]):\n",
    "\n",
    "        plt.subplot(*best_rows_cols(params[p].shape[-1]),i+1)\n",
    "        for j in range(params[p].shape[0]):\n",
    "            plt.plot(days, params[p][j,:,i], \"-o\", label=\"Posterior %i\"%(j+1))\n",
    "        plt.xlabel(\"Last day of training interval\")\n",
    "        plt.ylabel(model.params[i])\n",
    "\n",
    "        if (i == params[p].shape[-1]-1):\n",
    "            \n",
    "            plt.legend(bbox_to_anchor=(1, 0.5), loc=\"lower left\")\n",
    "    \n",
    "    plt.suptitle(model.plot_name, fontsize=50, y=0.91)\n",
    "    plt.show()"
   ]
  },
  {
   "cell_type": "code",
   "execution_count": null,
   "metadata": {},
   "outputs": [],
   "source": [
    "for p in range(len(params)):\n",
    "    \n",
    "    model = getattr(epi_mod, models[p])\n",
    "    \n",
    "    plt.figure(figsize=(10*best_rows_cols(params[p].shape[-1])[::-1]))\n",
    "    plt.subplots_adjust(wspace=0.3, hspace=0.2)\n",
    "    \n",
    "    for i in range(params[p].shape[-1]):\n",
    "\n",
    "        plt.subplot(*best_rows_cols(params[p].shape[-1]),i+1)\n",
    "        plt.plot(days, params[p][-1,:,i], \"-o\", label=\"Posterior %i\"%(j+1))\n",
    "        plt.xlabel(\"Last day of training interval\")\n",
    "        plt.ylabel(model.params[i])\n",
    "\n",
    "        if (i == params[p].shape[-1]-1):\n",
    "            \n",
    "            plt.legend(bbox_to_anchor=(1, 0.5), loc=\"lower left\")\n",
    "    \n",
    "    plt.suptitle(model.plot_name, fontsize=50, y=0.91)\n",
    "    plt.show()"
   ]
  },
  {
   "cell_type": "code",
   "execution_count": null,
   "metadata": {},
   "outputs": [],
   "source": [
    "rmsd_train = np.zeros((len(models), n_post, n_days))\n",
    "rmsd_val= np.zeros((len(models), n_post, n_days))\n",
    "rmsd_total = np.zeros((len(models), n_post, n_days))\n",
    "\n",
    "params = []\n",
    "\n",
    "for model_idx in range(len(models)):\n",
    "    \n",
    "    model = getattr(epi_mod, models[model_idx])\n",
    "    \n",
    "    log_file = open(log_path+\"Posterior1/DF/%s\"%models[model_idx]+\"/\"+days_sets[0]+\"/%s_log.out\"%model.name).read().split(\"\\n\")[:-1]\n",
    "\n",
    "    for line in range(len(log_file)):\n",
    "\n",
    "        if (\"RMSD:\" in log_file[line]):\n",
    "\n",
    "            rmsd_start_line = line\n",
    "    \n",
    "    params.append(np.zeros((n_post, n_days, model.nparams)))\n",
    "    \n",
    "    for post in range(1, n_post+1):\n",
    "            \n",
    "        path = log_path+\"Posterior%i/%s/%s/\" % (post, location, models[model_idx])\n",
    "        \n",
    "        for days_idx in range(len(days_sets)):\n",
    "            \n",
    "            params[-1][post-1,days_idx,:] = np.genfromtxt(path+days_sets[days_idx]+\"/best_params.txt\")\n",
    "            \n",
    "            log_file = open(path+days_sets[days_idx]+\"/%s_log.out\"%model.name).read().split(\"\\n\")[:-1]\n",
    "            \n",
    "            for line in range(len(log_file)):\n",
    "\n",
    "                if (\"RMSD:\" in log_file[line]):\n",
    "\n",
    "                    rmsd_start_line = line\n",
    "\n",
    "            rmsd_train[model_idx, post-1, days_idx] = float(log_file[rmsd_start_line].split(\" \")[-1])\n",
    "            rmsd_val[model_idx, post-1, days_idx] = float(log_file[rmsd_start_line+1].split(\" \")[-1])\n",
    "            rmsd_total[model_idx, post-1, days_idx] = float(log_file[rmsd_start_line+2].split(\" \")[-1])"
   ]
  },
  {
   "cell_type": "code",
   "execution_count": null,
   "metadata": {},
   "outputs": [],
   "source": [
    "rmsd_train[:,-1,26]"
   ]
  },
  {
   "cell_type": "code",
   "execution_count": null,
   "metadata": {},
   "outputs": [],
   "source": []
  },
  {
   "cell_type": "code",
   "execution_count": null,
   "metadata": {},
   "outputs": [],
   "source": [
    "rmsd_val[:,-1,24]"
   ]
  },
  {
   "cell_type": "code",
   "execution_count": null,
   "metadata": {},
   "outputs": [],
   "source": [
    "rmsd_total[:,-1,24]"
   ]
  },
  {
   "cell_type": "code",
   "execution_count": null,
   "metadata": {
    "scrolled": false
   },
   "outputs": [],
   "source": [
    "rmsd = [rmsd_train, rmsd_val, rmsd_total]\n",
    "rmsd_names = [\"RMSD on train data\", \"RMSD on validation data\", \"RMSD on total data\"]\n",
    "\n",
    "for model_idx in range(len(models)):\n",
    "    \n",
    "    model = getattr(epi_mod, models[model_idx])\n",
    "    \n",
    "    for i in range(len(rmsd)):\n",
    "        \n",
    "        plt.figure(figsize=(15,7))\n",
    "        \n",
    "        for j in range(rmsd[i].shape[1]):\n",
    "            \n",
    "            plt.plot(days, rmsd[i][model_idx, j], \"-o\", label=\"Posterior %i\"%(j+1))\n",
    "            plt.legend()\n",
    "            plt.xlabel(\"Days trained\")\n",
    "            plt.ylabel(rmsd_names[i])\n",
    "            plt.yscale(\"log\")\n",
    "            plt.title(model.plot_name, fontsize=50)\n",
    "    plt.show()"
   ]
  },
  {
   "cell_type": "code",
   "execution_count": null,
   "metadata": {},
   "outputs": [],
   "source": [
    "rmsd = [rmsd_train, rmsd_val, rmsd_total]\n",
    "rmsd_names = [\"RMSD on train data\", \"RMSD on validation data\", \"RMSD on total data\"]\n",
    "\n",
    "for model_idx in range(len(models)):\n",
    "    \n",
    "    model = getattr(epi_mod, models[model_idx])\n",
    "    \n",
    "    for i in range(len(rmsd)):\n",
    "        \n",
    "        plt.figure(figsize=(15,7))\n",
    "        \n",
    "        plt.plot(days, rmsd[i][model_idx, -1], \"-o\", label=\"Posterior %i\"%(j+1))\n",
    "        plt.legend()\n",
    "        plt.xlabel(\"Days trained\")\n",
    "        plt.ylabel(rmsd_names[i])\n",
    "        plt.title(model.plot_name, fontsize=50)\n",
    "        \n",
    "    plt.show()"
   ]
  },
  {
   "cell_type": "code",
   "execution_count": null,
   "metadata": {},
   "outputs": [],
   "source": [
    "rmsd_total[:,-1,:]"
   ]
  },
  {
   "cell_type": "code",
   "execution_count": null,
   "metadata": {
    "scrolled": false
   },
   "outputs": [],
   "source": [
    "rmsd = [rmsd_train, rmsd_val, rmsd_total]\n",
    "rmsd_names = [\"RMSD on train data\", \"RMSD on validation data\", \"RMSD on total data\"]\n",
    "\n",
    "for model_idx in range(len(models)):\n",
    "    \n",
    "    model = getattr(epi_mod, models[model_idx])\n",
    "    \n",
    "    plt.figure(figsize=(15,15))\n",
    "\n",
    "    for j in range(rmsd[0].shape[1]):\n",
    "        \n",
    "        plt.plot(rmsd[0][model_idx, j], rmsd[1][model_idx, j], \"-o\", label=\"Posterior %i\"%(j+1))\n",
    "        plt.legend()\n",
    "        plt.xlabel(rmsd_names[0])\n",
    "        plt.ylabel(rmsd_names[1])\n",
    "        plt.title(model.plot_name, fontsize=50)\n",
    "    plt.show()"
   ]
  },
  {
   "cell_type": "code",
   "execution_count": null,
   "metadata": {},
   "outputs": [],
   "source": [
    "rmsd = [rmsd_train, rmsd_val, rmsd_total]\n",
    "rmsd_names = [\"RMSD on train data\", \"RMSD on validation data\", \"RMSD on total data\"]\n",
    "\n",
    "for model_idx in range(len(models)):\n",
    "    \n",
    "    model = getattr(epi_mod, models[model_idx])\n",
    "    \n",
    "    plt.figure(figsize=(15,15))\n",
    "\n",
    "    plt.plot(rmsd[0][model_idx, -1], rmsd[1][model_idx, -1], \"o\", label=\"Posterior %i\"%(j+1))\n",
    "    plt.legend()\n",
    "    plt.xlabel(rmsd_names[0])\n",
    "    plt.ylabel(rmsd_names[1])\n",
    "    plt.title(model.plot_name, fontsize=50)\n",
    "    \n",
    "    plt.show()"
   ]
  },
  {
   "cell_type": "code",
   "execution_count": null,
   "metadata": {},
   "outputs": [],
   "source": [
    "from scipy.stats import pearsonr\n",
    "\n",
    "pearsonr(rmsd[0][0,0], rmsd[1][0,0])"
   ]
  }
 ],
 "metadata": {
  "kernelspec": {
   "display_name": "Python 3",
   "language": "python",
   "name": "python3"
  },
  "language_info": {
   "codemirror_mode": {
    "name": "ipython",
    "version": 3
   },
   "file_extension": ".py",
   "mimetype": "text/x-python",
   "name": "python",
   "nbconvert_exporter": "python",
   "pygments_lexer": "ipython3",
   "version": "3.8.5"
  }
 },
 "nbformat": 4,
 "nbformat_minor": 4
}
